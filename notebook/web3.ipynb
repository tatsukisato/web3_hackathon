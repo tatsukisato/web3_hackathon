{
 "cells": [
  {
   "cell_type": "markdown",
   "metadata": {},
   "source": [
    "### Setting"
   ]
  },
  {
   "cell_type": "code",
   "execution_count": 10,
   "metadata": {},
   "outputs": [],
   "source": [
    "# import libraries\n",
    "import ipfshttpclient\n",
    "from web3 import Web3"
   ]
  },
  {
   "cell_type": "code",
   "execution_count": 11,
   "metadata": {},
   "outputs": [],
   "source": [
    "path = './'"
   ]
  },
  {
   "cell_type": "markdown",
   "metadata": {},
   "source": [
    "### IPFSに情報を登録する"
   ]
  },
  {
   "cell_type": "code",
   "execution_count": 12,
   "metadata": {},
   "outputs": [],
   "source": [
    "# IPFSノードに接続\n",
    "client = ipfshttpclient.connect('/ip4/127.0.0.1/tcp/5001')"
   ]
  },
  {
   "cell_type": "code",
   "execution_count": 13,
   "metadata": {},
   "outputs": [
    {
     "data": {
      "text/plain": [
       "<ipfshttpclient.client.base.ResponseBase: {'Name': 'metadata005.json', 'Hash': 'Qmeaj481vU7xGXM2TYLcNxedXkxDkdqn6ATHX9qm2Dbivw', 'Size': '676'}>"
      ]
     },
     "execution_count": 13,
     "metadata": {},
     "output_type": "execute_result"
    }
   ],
   "source": [
    "res = client.add(path + 'metadata005.json')\n",
    "res"
   ]
  },
  {
   "cell_type": "markdown",
   "metadata": {},
   "source": [
    "### 指定したトランザクションのスマートコントラクトを実行する"
   ]
  },
  {
   "cell_type": "code",
   "execution_count": 14,
   "metadata": {},
   "outputs": [],
   "source": [
    "def get_contract(contract_address, provider_url):\n",
    "    \"\"\"Create instance for smart contracts\"\"\"\n",
    "\n",
    "    # ABI（関数のインターフェース）を指定\n",
    "    contract_abi = [{\n",
    "        \"name\": \"tokenURI\",\n",
    "        \"inputs\": [{\"name\": \"tokenId\", \"type\": \"uint256\"}], \n",
    "        \"outputs\": [{\"name\": \"\", \"type\": \"string\"}],\n",
    "        \"constant\": True, \n",
    "        \"payable\": False,\n",
    "        \"stateMutability\": \"view\",\n",
    "        \"type\": \"function\"\n",
    "    }]\n",
    "    web3 = Web3(Web3.HTTPProvider(provider_url))\n",
    "    contract = web3.eth.contract(address=contract_address, abi=contract_abi)\n",
    "    return contract"
   ]
  },
  {
   "cell_type": "code",
   "execution_count": 15,
   "metadata": {},
   "outputs": [],
   "source": [
    "# パラメータ設定\n",
    "contract_address = '0x8cBc1fC3C91769A38Ac463C4Ca8AA8Faa003E6D5'\n",
    "provider_url = \"https://eth-sepolia.g.alchemy.com/v2/WcNDGCbds2ZYFi1SZ-RgpHRyxO6KaugU\"\n",
    "token_id = 4  # 取得したいトークンのID"
   ]
  },
  {
   "cell_type": "code",
   "execution_count": 16,
   "metadata": {},
   "outputs": [
    {
     "name": "stdout",
     "output_type": "stream",
     "text": [
      "Token URI: https://ipfs.io/ipfs/QmTCSTwJZZZpwzH7rkuNAoappWVMHV3tUiNEHg6yt8xGCA\n"
     ]
    }
   ],
   "source": [
    "# スマートコントラクトのインスタンスを作成\n",
    "contract = get_contract(contract_address, provider_url)\n",
    "\n",
    "# tokenURI関数を呼び出しURIを取得\n",
    "uri = contract.functions.tokenURI(token_id).call()\n",
    "print('Token URI:', uri)"
   ]
  },
  {
   "cell_type": "markdown",
   "metadata": {},
   "source": [
    "### メタデータを取得する"
   ]
  },
  {
   "cell_type": "code",
   "execution_count": 17,
   "metadata": {},
   "outputs": [],
   "source": [
    "# IPFSノードに接続\n",
    "client = ipfshttpclient.connect('/ip4/127.0.0.1/tcp/5001')"
   ]
  },
  {
   "cell_type": "code",
   "execution_count": 18,
   "metadata": {},
   "outputs": [
    {
     "name": "stdout",
     "output_type": "stream",
     "text": [
      "Data from IPFS:\n"
     ]
    },
    {
     "data": {
      "text/plain": [
       "{'name': 'Certificate 004',\n",
       " 'description': 'Sample data',\n",
       " 'image': 'https://ipfs.io/ipfs/QmYpKTmCrPShKvCrxXxoyDjevrDn7RCw7LKSC58K68A7YC',\n",
       " 'attributes': [{'trait_type': 'name',\n",
       "   'value': 'TOEIC Listening & Reading Test'},\n",
       "  {'trait_type': 'institution', 'value': 'IIBC'},\n",
       "  {'display_type': 'date', 'trait_type': 'date', 'value': 1704034800},\n",
       "  {'trait_type': 'validity', 'value': ''},\n",
       "  {'trait_type': 'score', 'value': 900}]}"
      ]
     },
     "execution_count": 18,
     "metadata": {},
     "output_type": "execute_result"
    }
   ],
   "source": [
    "# URI内のCIDをもとにメタデータを取得\n",
    "data = client.get_json(uri.split('/')[-1])\n",
    "print('Data from IPFS:')\n",
    "data"
   ]
  },
  {
   "cell_type": "code",
   "execution_count": null,
   "metadata": {},
   "outputs": [],
   "source": []
  }
 ],
 "metadata": {
  "kernelspec": {
   "display_name": "web3",
   "language": "python",
   "name": "python3"
  },
  "language_info": {
   "codemirror_mode": {
    "name": "ipython",
    "version": 3
   },
   "file_extension": ".py",
   "mimetype": "text/x-python",
   "name": "python",
   "nbconvert_exporter": "python",
   "pygments_lexer": "ipython3",
   "version": "3.8.13"
  }
 },
 "nbformat": 4,
 "nbformat_minor": 2
}
