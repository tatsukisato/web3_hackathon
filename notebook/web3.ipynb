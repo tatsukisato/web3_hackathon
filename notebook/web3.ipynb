{
 "cells": [
  {
   "cell_type": "markdown",
   "metadata": {},
   "source": [
    "### Setting"
   ]
  },
  {
   "cell_type": "code",
   "execution_count": 55,
   "metadata": {},
   "outputs": [],
   "source": [
    "# import libraries\n",
    "import ipfshttpclient\n",
    "import json\n",
    "\n",
    "from datetime import datetime\n",
    "from pathlib import Path\n",
    "from web3 import Web3"
   ]
  },
  {
   "cell_type": "code",
   "execution_count": 68,
   "metadata": {},
   "outputs": [],
   "source": [
    "# IPFSノードに接続\n",
    "client = ipfshttpclient.connect('/ip4/127.0.0.1/tcp/5001')"
   ]
  },
  {
   "cell_type": "markdown",
   "metadata": {},
   "source": [
    "### 1. IPFSに画像ファイルをアップロードする"
   ]
  },
  {
   "cell_type": "code",
   "execution_count": 70,
   "metadata": {},
   "outputs": [],
   "source": [
    "def upload_to_ipfs(path):\n",
    "    \"\"\" Upload image to IPFS server\n",
    "\n",
    "    Args:\n",
    "        path: file path\n",
    "\n",
    "    Returns:\n",
    "        CID representing the location of the file returned by the IPFS server    \n",
    "    \"\"\"\n",
    "    res = client.add(path)\n",
    "    return res['Hash']"
   ]
  },
  {
   "cell_type": "code",
   "execution_count": 123,
   "metadata": {},
   "outputs": [
    {
     "name": "stdout",
     "output_type": "stream",
     "text": [
      "QmUtG2VdpALNLCnThcHe2ukguEgPLw6b8jBucWG8ZpbfCa\n"
     ]
    }
   ],
   "source": [
    "image_name = 'sample003.jpg'\n",
    "\n",
    "hash = upload_to_ipfs('../img/' + image_name)\n",
    "print(hash)"
   ]
  },
  {
   "cell_type": "markdown",
   "metadata": {},
   "source": [
    "### 2. メタデータを作成しIPFSにアップロードする"
   ]
  },
  {
   "cell_type": "code",
   "execution_count": 124,
   "metadata": {},
   "outputs": [],
   "source": [
    "def create_metadata(attributes, hash):\n",
    "    \"\"\" Create metadata for registration in a transaction\n",
    "\n",
    "    Args:\n",
    "        attributes: Information to be described in metadata\n",
    "        hash: CID of image data\n",
    "\n",
    "    Returns:\n",
    "        Dictionary type metadata \n",
    "    \"\"\"\n",
    "\n",
    "    # 日付文字列をUNIX時間（エポック秒）に変換\n",
    "    date_object = datetime.strptime(attributes['date'], \"%Y-%m-%d\")\n",
    "    unix_time = int(date_object.timestamp())\n",
    "\n",
    "    metadata = {\n",
    "        \"name\": attributes['name'],\n",
    "        \"description\": attributes['description'],\n",
    "        \"image\": f\"https://ipfs.io/ipfs/{hash}\",\n",
    "        \"attributes\": [\n",
    "            {\n",
    "                \"trait_type\": \"institution\",\n",
    "                \"value\": attributes['institution']\n",
    "            },\n",
    "            {\n",
    "                \"display_type\": \"date\", \n",
    "                \"trait_type\": \"date\", \n",
    "                \"value\": unix_time\n",
    "            },\n",
    "            {\n",
    "                \"trait_type\": \"score\",\n",
    "                \"value\": attributes['score']\n",
    "            }\n",
    "        ]\n",
    "    }\n",
    "\n",
    "    return metadata"
   ]
  },
  {
   "cell_type": "code",
   "execution_count": 125,
   "metadata": {},
   "outputs": [
    {
     "name": "stdout",
     "output_type": "stream",
     "text": [
      "{'name': '2級ファイナンシャル・プランニング技能士', 'description': 'web3 hackathon', 'image': 'https://ipfs.io/ipfs/QmUtG2VdpALNLCnThcHe2ukguEgPLw6b8jBucWG8ZpbfCa', 'attributes': [{'trait_type': 'institution', 'value': '日本FP協会'}, {'display_type': 'date', 'trait_type': 'date', 'value': 1706713200}, {'trait_type': 'score', 'value': 1}]}\n"
     ]
    }
   ],
   "source": [
    "# 資格情報を定義（フロント側から受け取る想定）\n",
    "attributes = {\n",
    "    'name': \"2級ファイナンシャル・プランニング技能士\",\n",
    "    'description': \"web3 hackathon\",\n",
    "    \"institution\": \"日本FP協会\",\n",
    "    'date': \"2024-02-01\",\n",
    "    'score': 1\n",
    "}\n",
    "metadata = create_metadata(attributes, hash)\n",
    "print(metadata)\n",
    "\n",
    "# JSONファイルに書き出す\n",
    "with open(\"../metadata/metadata.json\", \"w\") as json_file:\n",
    "    json.dump(metadata, json_file)"
   ]
  },
  {
   "cell_type": "code",
   "execution_count": 126,
   "metadata": {},
   "outputs": [
    {
     "name": "stdout",
     "output_type": "stream",
     "text": [
      "QmY4QC9dkjhz5NWUSEN2kK1S6KscnCVF9Pnn1nW7wc1uHo\n"
     ]
    }
   ],
   "source": [
    "# メタデータをIPFSサーバーにアップロード\n",
    "hash_metadata = upload_to_ipfs('../metadata/metadata.json')\n",
    "print(hash_metadata)"
   ]
  },
  {
   "cell_type": "markdown",
   "metadata": {},
   "source": [
    "### 3. トランザクションの発行\n",
    "Remixで実施する"
   ]
  },
  {
   "cell_type": "code",
   "execution_count": 127,
   "metadata": {},
   "outputs": [
    {
     "name": "stdout",
     "output_type": "stream",
     "text": [
      "https://ipfs.io/ipfs/QmY4QC9dkjhz5NWUSEN2kK1S6KscnCVF9Pnn1nW7wc1uHo\n"
     ]
    }
   ],
   "source": [
    "# safeMint関数に入力するURI\n",
    "print(f\"https://ipfs.io/ipfs/{hash_metadata}\")"
   ]
  },
  {
   "cell_type": "markdown",
   "metadata": {},
   "source": [
    "### 4. スマートコントラクトの実行"
   ]
  },
  {
   "cell_type": "code",
   "execution_count": 128,
   "metadata": {},
   "outputs": [],
   "source": [
    "def get_contract(contract_address, provider_url):\n",
    "    \"\"\"Create instance for smart contracts\"\"\"\n",
    "\n",
    "    # ABI（関数のインターフェース）を指定\n",
    "    contract_abi = [{\n",
    "        \"name\": \"tokenURI\",\n",
    "        \"inputs\": [{\"name\": \"tokenId\", \"type\": \"uint256\"}], \n",
    "        \"outputs\": [{\"name\": \"\", \"type\": \"string\"}],\n",
    "        \"constant\": True, \n",
    "        \"payable\": False,\n",
    "        \"stateMutability\": \"view\",\n",
    "        \"type\": \"function\"\n",
    "    }]\n",
    "    web3 = Web3(Web3.HTTPProvider(provider_url))\n",
    "    contract = web3.eth.contract(address=contract_address, abi=contract_abi)\n",
    "    return contract"
   ]
  },
  {
   "cell_type": "code",
   "execution_count": 129,
   "metadata": {},
   "outputs": [
    {
     "name": "stdout",
     "output_type": "stream",
     "text": [
      "Token URI: https://ipfs.io/ipfs/QmY4QC9dkjhz5NWUSEN2kK1S6KscnCVF9Pnn1nW7wc1uHo\n"
     ]
    }
   ],
   "source": [
    "# パラメータ設定\n",
    "contract_address = '0xe34A19c0a479E9C38F7975C0802e296fCF3652a1'\n",
    "provider_url = \"https://eth-sepolia.g.alchemy.com/v2/WcNDGCbds2ZYFi1SZ-RgpHRyxO6KaugU\"\n",
    "\n",
    "# スマートコントラクトのインスタンスを作成\n",
    "contract = get_contract(contract_address, provider_url)\n",
    "\n",
    "# tokenURI関数を呼び出しURIを取得\n",
    "token_id = 4  # 取得したいトークンのID\n",
    "uri = contract.functions.tokenURI(token_id).call()\n",
    "print('Token URI:', uri)"
   ]
  },
  {
   "cell_type": "markdown",
   "metadata": {},
   "source": [
    "### 5. メタデータを取得する"
   ]
  },
  {
   "cell_type": "code",
   "execution_count": 130,
   "metadata": {},
   "outputs": [
    {
     "data": {
      "text/plain": [
       "{'name': '2級ファイナンシャル・プランニング技能士',\n",
       " 'description': 'web3 hackathon',\n",
       " 'image': 'https://ipfs.io/ipfs/QmUtG2VdpALNLCnThcHe2ukguEgPLw6b8jBucWG8ZpbfCa',\n",
       " 'attributes': [{'trait_type': 'institution', 'value': '日本FP協会'},\n",
       "  {'display_type': 'date', 'trait_type': 'date', 'value': 1706713200},\n",
       "  {'trait_type': 'score', 'value': 1}]}"
      ]
     },
     "execution_count": 130,
     "metadata": {},
     "output_type": "execute_result"
    }
   ],
   "source": [
    "# URI内のCIDをもとにメタデータを取得\n",
    "data = client.get_json(uri.split('/')[-1])\n",
    "\n",
    "data"
   ]
  }
 ],
 "metadata": {
  "kernelspec": {
   "display_name": "web3",
   "language": "python",
   "name": "python3"
  },
  "language_info": {
   "codemirror_mode": {
    "name": "ipython",
    "version": 3
   },
   "file_extension": ".py",
   "mimetype": "text/x-python",
   "name": "python",
   "nbconvert_exporter": "python",
   "pygments_lexer": "ipython3",
   "version": "3.8.13"
  }
 },
 "nbformat": 4,
 "nbformat_minor": 2
}
